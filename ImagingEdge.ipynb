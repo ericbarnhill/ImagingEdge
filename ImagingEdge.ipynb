{
 "cells": [
  {
   "cell_type": "markdown",
   "metadata": {},
   "source": [
    "## ImagingEdge for Web\n",
    "\n",
    "This notebook will contain the scripts that are directly pasted into the ImagingEdge web app."
   ]
  },
  {
   "cell_type": "code",
   "execution_count": null,
   "metadata": {},
   "outputs": [],
   "source": [
    "import pickle\n",
    "\n",
    "def unpickle_graph():\n",
    "    with open(\"G.txt\", \"rb\") as fp:\n",
    "        G = pickle.load(fp)\n",
    "    return G\n",
    "\n",
    "def unpickle_trends():\n",
    "    with open(\"bow_trends_all.txt\", \"rb\") as fp:\n",
    "        bow_trends_all = pickle.load(fp)\n",
    "    return bow_trends_all\n",
    "\n",
    "def unpickle_df():\n",
    "    with open(\"df.txt\", \"rb\") as fp:\n",
    "        df = pickle.load(fp)\n",
    "    return df"
   ]
  },
  {
   "cell_type": "code",
   "execution_count": 77,
   "metadata": {},
   "outputs": [],
   "source": [
    "#bow_trends_all = unpickle_trends()\n",
    "df = unpickle_df()"
   ]
  },
  {
   "cell_type": "code",
   "execution_count": 78,
   "metadata": {},
   "outputs": [
    {
     "name": "stdout",
     "output_type": "stream",
     "text": [
      "   index                       key                 score  total_mentions\n",
      "0   2210      (alone, combination)  [106.55789473684283]           191.0\n",
      "1   3303           (ligament, acl)  [46.666666666666494]           224.0\n",
      "2   1940  (disease, characterized)   [39.25925925925925]           212.0\n",
      "3   2795        (tomography, used)   [38.26666666666693]           164.0\n",
      "4   2496         (tested, whether)  [37.592592592592446]           203.0\n",
      "   index                        key                 score  total_mentions\n",
      "0   1232  (descriptive, statistics)   [78.95555555555494]           209.0\n",
      "1   2777  (patients, postoperative)   [61.64999999999975]           137.0\n",
      "2   3465        (analysis, results)  [53.999999999999666]           189.0\n",
      "3   3380      (patients, including)   [52.64999999999957]           351.0\n",
      "4    816          (data, regarding)   [48.23076923076945]           285.0\n",
      "   index                     key                score  total_mentions\n",
      "0    630        (infarction, mi)  [74.28571428571419]           300.0\n",
      "1   2351  (mortality, morbidity)  [71.93333333333221]           166.0\n",
      "2   1101         (young, adults)  [62.39999999999975]           624.0\n",
      "3   2885   (cerebral, perfusion)  [53.81860465116303]           203.0\n",
      "4   2562   (patients, receiving)  [52.90277777777806]           586.0\n"
     ]
    }
   ],
   "source": [
    "print(df[0].head())\n",
    "print(df[1].head())\n",
    "print(df[2].head())"
   ]
  },
  {
   "cell_type": "code",
   "execution_count": 30,
   "metadata": {},
   "outputs": [
    {
     "name": "stdout",
     "output_type": "stream",
     "text": [
      "3642\n",
      "3642\n"
     ]
    },
    {
     "data": {
      "text/html": [
       "<div>\n",
       "<style scoped>\n",
       "    .dataframe tbody tr th:only-of-type {\n",
       "        vertical-align: middle;\n",
       "    }\n",
       "\n",
       "    .dataframe tbody tr th {\n",
       "        vertical-align: top;\n",
       "    }\n",
       "\n",
       "    .dataframe thead th {\n",
       "        text-align: right;\n",
       "    }\n",
       "</style>\n",
       "<table border=\"1\" class=\"dataframe\">\n",
       "  <thead>\n",
       "    <tr style=\"text-align: right;\">\n",
       "      <th></th>\n",
       "      <th>index</th>\n",
       "      <th>key</th>\n",
       "      <th>score</th>\n",
       "      <th>total_mentions</th>\n",
       "    </tr>\n",
       "  </thead>\n",
       "  <tbody>\n",
       "    <tr>\n",
       "      <th>0</th>\n",
       "      <td>630</td>\n",
       "      <td>(infarction, mi)</td>\n",
       "      <td>[74.28571428571419]</td>\n",
       "      <td>300.0</td>\n",
       "    </tr>\n",
       "    <tr>\n",
       "      <th>1</th>\n",
       "      <td>2351</td>\n",
       "      <td>(mortality, morbidity)</td>\n",
       "      <td>[71.93333333333221]</td>\n",
       "      <td>166.0</td>\n",
       "    </tr>\n",
       "    <tr>\n",
       "      <th>2</th>\n",
       "      <td>1101</td>\n",
       "      <td>(young, adults)</td>\n",
       "      <td>[62.39999999999975]</td>\n",
       "      <td>624.0</td>\n",
       "    </tr>\n",
       "    <tr>\n",
       "      <th>3</th>\n",
       "      <td>2885</td>\n",
       "      <td>(cerebral, perfusion)</td>\n",
       "      <td>[53.81860465116303]</td>\n",
       "      <td>203.0</td>\n",
       "    </tr>\n",
       "    <tr>\n",
       "      <th>4</th>\n",
       "      <td>2562</td>\n",
       "      <td>(patients, receiving)</td>\n",
       "      <td>[52.90277777777806]</td>\n",
       "      <td>586.0</td>\n",
       "    </tr>\n",
       "  </tbody>\n",
       "</table>\n",
       "</div>"
      ],
      "text/plain": [
       "   index                     key                score  total_mentions\n",
       "0    630        (infarction, mi)  [74.28571428571419]           300.0\n",
       "1   2351  (mortality, morbidity)  [71.93333333333221]           166.0\n",
       "2   1101         (young, adults)  [62.39999999999975]           624.0\n",
       "3   2885   (cerebral, perfusion)  [53.81860465116303]           203.0\n",
       "4   2562   (patients, receiving)  [52.90277777777806]           586.0"
      ]
     },
     "execution_count": 30,
     "metadata": {},
     "output_type": "execute_result"
    }
   ],
   "source": [
    "print(len(bow_trends))\n",
    "print(len(df[2]))\n",
    "df_last = df[2]\n",
    "df_last.head()"
   ]
  },
  {
   "cell_type": "code",
   "execution_count": null,
   "metadata": {},
   "outputs": [],
   "source": [
    "for key, item in bow_trends.items():\n",
    "    print(key)\n",
    "    print(item)\n",
    "    break\n",
    "for key, item in df[2].items():\n",
    "    print(key)\n",
    "    print(item)\n",
    "    break"
   ]
  },
  {
   "cell_type": "code",
   "execution_count": null,
   "metadata": {},
   "outputs": [],
   "source": [
    "key = ('cerebrospinal', 'fluid')\n",
    "res = bow_trends[key]['vals']\n",
    "print(res)"
   ]
  },
  {
   "cell_type": "code",
   "execution_count": 80,
   "metadata": {},
   "outputs": [],
   "source": [
    "def convert_df(df):\n",
    "    df_convert = df\n",
    "    nrow = df.shape[0]\n",
    "    for n in range(nrow):\n",
    "        score = df.loc[n,\"score\"]\n",
    "        df_convert.loc[n,\"score\"] = score\n",
    "        key = df.loc[n,\"key\"]\n",
    "        df_convert.loc[n,\"key\"] = ' '.join(key)\n",
    "    return df_convert\n",
    "for i, df_ in enumerate(df):\n",
    "    df[i] = convert_df(df_)"
   ]
  },
  {
   "cell_type": "code",
   "execution_count": 81,
   "metadata": {},
   "outputs": [],
   "source": [
    "for i, df_ in enumerate(df):\n",
    "    filename = 'df_' + str(i) + '.csv'\n",
    "    df_.to_csv(filename)"
   ]
  },
  {
   "cell_type": "code",
   "execution_count": 82,
   "metadata": {},
   "outputs": [
    {
     "data": {
      "text/html": [
       "<div>\n",
       "<style scoped>\n",
       "    .dataframe tbody tr th:only-of-type {\n",
       "        vertical-align: middle;\n",
       "    }\n",
       "\n",
       "    .dataframe tbody tr th {\n",
       "        vertical-align: top;\n",
       "    }\n",
       "\n",
       "    .dataframe thead th {\n",
       "        text-align: right;\n",
       "    }\n",
       "</style>\n",
       "<table border=\"1\" class=\"dataframe\">\n",
       "  <thead>\n",
       "    <tr style=\"text-align: right;\">\n",
       "      <th></th>\n",
       "      <th>index</th>\n",
       "      <th>key</th>\n",
       "      <th>score</th>\n",
       "      <th>total_mentions</th>\n",
       "    </tr>\n",
       "  </thead>\n",
       "  <tbody>\n",
       "    <tr>\n",
       "      <th>3637</th>\n",
       "      <td>2597</td>\n",
       "      <td>consecutive series</td>\n",
       "      <td>-57.8143</td>\n",
       "      <td>213.0</td>\n",
       "    </tr>\n",
       "    <tr>\n",
       "      <th>3638</th>\n",
       "      <td>542</td>\n",
       "      <td>present first</td>\n",
       "      <td>-74.2857</td>\n",
       "      <td>200.0</td>\n",
       "    </tr>\n",
       "    <tr>\n",
       "      <th>3639</th>\n",
       "      <td>718</td>\n",
       "      <td>ultrasound images</td>\n",
       "      <td>-75.0256</td>\n",
       "      <td>385.0</td>\n",
       "    </tr>\n",
       "    <tr>\n",
       "      <th>3640</th>\n",
       "      <td>1492</td>\n",
       "      <td>nucleic acids</td>\n",
       "      <td>-83.2963</td>\n",
       "      <td>173.0</td>\n",
       "    </tr>\n",
       "    <tr>\n",
       "      <th>3641</th>\n",
       "      <td>341</td>\n",
       "      <td>strongly correlated</td>\n",
       "      <td>-126.307</td>\n",
       "      <td>292.0</td>\n",
       "    </tr>\n",
       "  </tbody>\n",
       "</table>\n",
       "</div>"
      ],
      "text/plain": [
       "      index                  key    score  total_mentions\n",
       "3637   2597   consecutive series -57.8143           213.0\n",
       "3638    542        present first -74.2857           200.0\n",
       "3639    718    ultrasound images -75.0256           385.0\n",
       "3640   1492        nucleic acids -83.2963           173.0\n",
       "3641    341  strongly correlated -126.307           292.0"
      ]
     },
     "execution_count": 82,
     "metadata": {},
     "output_type": "execute_result"
    }
   ],
   "source": [
    "df[2].tail()"
   ]
  },
  {
   "cell_type": "code",
   "execution_count": null,
   "metadata": {},
   "outputs": [],
   "source": []
  }
 ],
 "metadata": {
  "kernelspec": {
   "display_name": "Python 3",
   "language": "python",
   "name": "python3"
  },
  "language_info": {
   "codemirror_mode": {
    "name": "ipython",
    "version": 3
   },
   "file_extension": ".py",
   "mimetype": "text/x-python",
   "name": "python",
   "nbconvert_exporter": "python",
   "pygments_lexer": "ipython3",
   "version": "3.6.5"
  }
 },
 "nbformat": 4,
 "nbformat_minor": 2
}
