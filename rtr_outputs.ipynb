{
 "cells": [
  {
   "cell_type": "markdown",
   "metadata": {},
   "source": [
    "## Collect outputs for flask\n",
    "\n",
    "Design:\n",
    "\n",
    "Sidebar left:\n",
    "Enter a search term\n",
    "High-activity search terms\n",
    "\n",
    "Main panel right:\n",
    "top:\n",
    "return trending terms (sorted by % of total weight around the node) with links\n",
    "clicking on the link shows plot of the term's appearances\n",
    "below plot are relevant abstracts\n",
    "\n",
    "TODO:\n",
    "graph data should include PMID numbers. when clicked, app could scrape pubmed for the PMIDs, sort by date, return \"ten most recent\" PubMed abstracts corresponding to the term\n",
    "\n",
    "need to go back to first notebook. scrape should include PMID. PMID is then carried forward to when abstracts are revisited to match with trends. in addition to counter for each keyword"
   ]
  },
  {
   "cell_type": "code",
   "execution_count": 2,
   "metadata": {},
   "outputs": [
    {
     "name": "stdout",
     "output_type": "stream",
     "text": [
      "0\n",
      "2\n"
     ]
    }
   ],
   "source": [
    "a = range(3)\n",
    "print(min(a))\n",
    "print(max(a))"
   ]
  },
  {
   "cell_type": "code",
   "execution_count": 3,
   "metadata": {},
   "outputs": [
    {
     "name": "stdout",
     "output_type": "stream",
     "text": [
      "2\n",
      "1\n"
     ]
    }
   ],
   "source": [
    "for n in range(2, 0, -1):\n",
    "    print(n)"
   ]
  },
  {
   "cell_type": "code",
   "execution_count": null,
   "metadata": {},
   "outputs": [],
   "source": []
  }
 ],
 "metadata": {
  "kernelspec": {
   "display_name": "Python 3",
   "language": "python",
   "name": "python3"
  },
  "language_info": {
   "codemirror_mode": {
    "name": "ipython",
    "version": 3
   },
   "file_extension": ".py",
   "mimetype": "text/x-python",
   "name": "python",
   "nbconvert_exporter": "python",
   "pygments_lexer": "ipython3",
   "version": "3.6.5"
  }
 },
 "nbformat": 4,
 "nbformat_minor": 2
}
