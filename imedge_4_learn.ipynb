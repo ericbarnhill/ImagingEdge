{
 "cells": [
  {
   "cell_type": "markdown",
   "metadata": {},
   "source": [
    "# Imaging Edge Notebook 4: Mine Unstructured Sources\n",
    "\n",
    "ImagingEdge detects trends in the radiological research literature before they become mainstream publications, patents and products.\n",
    "\n",
    "*Part 4: In (this notebook) of the app, the graphs \"learns\" by adding unstructured sources.*\n",
    "\n",
    "Other parts:\n",
    "\n",
    "Part 1: Scrape PubMed\n",
    "\n",
    "Part 2: Convert PubMed abstracts to Bag of Words\n",
    "\n",
    "Part 3: Build graph connecting search terms and trends\n",
    "\n",
    "Part 5: Validation test suite\n",
    "\n",
    "### Created by Eric Barnhill for Insight Health Data Science\n",
    "#### 2018 No License\n",
    "\n",
    "Documentation follows the [Google Python Style Guide](http://google.github.io/styleguide/pyguide.html)"
   ]
  },
  {
   "cell_type": "markdown",
   "metadata": {},
   "source": [
    "## Table of Contents\n",
    "\n",
    "### Part 1: Scraping Arxiv\n",
    "### Part 2: Scraping Twitter\n",
    "### Part 3: Scraping Custom URLs"
   ]
  },
  {
   "cell_type": "code",
   "execution_count": 26,
   "metadata": {},
   "outputs": [
    {
     "name": "stdout",
     "output_type": "stream",
     "text": [
      "Setting Up...\n",
      "Python kernel:\n",
      "/home/ericbarnhill/anaconda3/envs/ecb/bin/python\n",
      "Logfile path:  /home/ericbarnhill/Documents/code/insight/imedge/imedge_3_graph.log\n"
     ]
    }
   ],
   "source": [
    "#SETUP\n",
    "%run imedge_3_graph.ipynb\n",
    "from bs4 import BeautifulSoup\n",
    "from urllib import request\n",
    "import twitterscraper\n",
    "import lxml\n",
    "import logging\n",
    "import contextlib"
   ]
  },
  {
   "cell_type": "code",
   "execution_count": 27,
   "metadata": {},
   "outputs": [],
   "source": [
    "def scrape_arxiv(start_date, n_windows, n_months, search_term):\n",
    "    \"\"\"Pull abstracts within rolling date windows from the ArXiv\n",
    "        \n",
    "    Args:\n",
    "        start_date: start date for all windows\n",
    "        n_windows: number of rolling windows\n",
    "        n_months: number of months in each window\n",
    "        node: radiological search term used to probe the ArXiv\n",
    "        \n",
    "    Returns:\n",
    "        List of arxiv abstract sets, one per rolling window\n",
    "    \"\"\"\n",
    "    window_records = []\n",
    "    for n in range(n_windows):\n",
    "        start = start_date + n*relativedelta(months=+1)\n",
    "        start_string = start.strftime(\"%Y-%m-%d\")\n",
    "        end = start + relativedelta(months=+n_months)\n",
    "        end_string = end.strftime(\"%Y-%m-%d\")\n",
    "        #logging.info(\"Query from \" + str(start) + \" to \" + str(end))\n",
    "        # ArXiv API does not appear to handle combined abstract & date searches.\n",
    "        # Consequently ArXiv is scraped through the 'front door'\n",
    "        # Note that this has a hard limit of 200 per rolling window, however\n",
    "        # this seems to be sufficient in preliminary testing\n",
    "        arxiv_request = 'https://arxiv.org/search/advanced?advanced=&terms-0-operator=AND&terms-0-term='+ \\\n",
    "        search_term+ \\\n",
    "        '&terms-0-field=abstract&classification-physics_archives=all&' + \\\n",
    "        'date-year=&date-filter_by=date_range&' \\\n",
    "        'date-from_date=' + start_string + '&date-to_date=' + \\\n",
    "        end_string + '&size=200'\n",
    "        with request.urlopen(arxiv_request) as response:\n",
    "            try:\n",
    "                page = reponse.read()\n",
    "            except (http.client.IncompleteRead) as e:\n",
    "                page = e.partial\n",
    "        soup = BeautifulSoup(page, 'html.parser').get_text()\n",
    "        soup_splits = soup.split('More')\n",
    "        soup_abstracts = []\n",
    "        for n in range(1, len(soup_splits)): # skip first one, it is preparatory text\n",
    "            soup_split = soup_splits[n]\n",
    "            soup_abstracts.append(soup_split.split('Less')[0])\n",
    "        #(\"Acquired\", len(soup_abstracts), \"abstracts across time window\", n)\n",
    "        window_records.append(soup_abstracts)\n",
    "    return window_records\n"
   ]
  },
  {
   "cell_type": "code",
   "execution_count": 28,
   "metadata": {},
   "outputs": [],
   "source": [
    "def scrape_twitter(start_date, n_windows, n_months, search_term, trending_term):\n",
    "    \"\"\"Scrape Twitter within rolling date windows\n",
    "    \n",
    "    To handle Twitter, the methodology changes a bit. I search the dates\n",
    "    for tweets containing search AND trending terms together.\n",
    "        \n",
    "    Args:\n",
    "        start_date: start date for all windows\n",
    "        n_windows: number of rolling windows\n",
    "        n_months: number of months in each window\n",
    "        node: radiological search term used to probe the ArXiv\n",
    "        \n",
    "    Returns:\n",
    "        List of twitter mentions, one per rolling window\n",
    "    \"\"\"\n",
    "    window_records = []\n",
    "    for n in range(n_windows):\n",
    "        start = start_date + n*relativedelta(months=+1)\n",
    "        end = start + relativedelta(months=+n_months)\n",
    "        query = search_term + ' AND ' + trending_term\n",
    "        logger = logging.getLogger('twitterscraper')\n",
    "        logger.disabled = True\n",
    "        twitter_response = twitterscraper.query_tweets(query, limit=200, \n",
    "                            begindate=start, \n",
    "                            enddate=end, poolsize=20, lang='')\n",
    "        logger.disabled = False\n",
    "        window_records.append(len(twitter_response))\n",
    "    return window_records"
   ]
  },
  {
   "cell_type": "code",
   "execution_count": 29,
   "metadata": {},
   "outputs": [],
   "source": [
    "def load_graph_and_trends(path):\n",
    "    with open(os.path.join(path, 'G.pickle'), 'rb') as fp:\n",
    "        G = pickle.load(fp)\n",
    "    with open(os.path.join(path, 'trends_converted.pickle'), 'rb') as fp:\n",
    "        trends = pickle.load(fp)\n",
    "    return G, trends\n",
    "\n",
    "def save_graph_and_trends(path, G, trends):\n",
    "    with open(os.path.join(path, 'G_x.pickle'), 'wb') as fp:\n",
    "        pickle.dump(G, fp)\n",
    "    with open(os.path.join(path, 'trends_converted_x.pickle'), 'wb') as fp:\n",
    "        pickle.dump(trends, fp)"
   ]
  },
  {
   "cell_type": "code",
   "execution_count": 30,
   "metadata": {},
   "outputs": [],
   "source": [
    "import socks\n",
    "import socket\n",
    "import stem.process\n",
    "\n",
    "def develop_graph(year, arxiv = True, twitter = True):\n",
    "    SOCKS_PORT=9050# You can change the port number\n",
    "    tor_process = stem.process.launch_tor_with_config(\n",
    "        config = {\n",
    "            'SocksPort': str(SOCKS_PORT),\n",
    "        },\n",
    "    )\n",
    "    socks.setdefaultproxy(proxy_type=socks.PROXY_TYPE_SOCKS5,\n",
    "                          addr=\"127.0.0.1\", #theres a ',' change it to '.' -- linkedin was being glitchy\n",
    "                          port=SOCKS_PORT)\n",
    "    socket.socket = socks.socksocket\n",
    "    N_WINDOWS = 12\n",
    "    N_MONTHS = 3\n",
    "    START_DATE = datetime.date(year,1,1)\n",
    "    path = os.path.join(IMEDGE_PATH, str(year))\n",
    "    reset_logging()\n",
    "    logfile = os.path.join(IMEDGE_PATH, 'imedge_4_learn.log')\n",
    "    print(\"Logfile path: \", logfile)\n",
    "    logging.basicConfig(filename=logfile,level=logging.DEBUG)\n",
    "    G, trends = load_graph_and_trends(path)\n",
    "    ## loop through nodes\n",
    "    for node,data in G.nodes(data=True):\n",
    "        if data['is_key']:\n",
    "            logging.info(\"Scraping for search term \" + node)\n",
    "            node_neighbors = list(G.neighbors(node))\n",
    "            # scrape the ArXiv\n",
    "            start=time.time()\n",
    "            arxiv_abstracts = scrape_arxiv(START_DATE, N_WINDOWS, N_MONTHS, node)\n",
    "            for i, abstract_set in enumerate(arxiv_abstracts):\n",
    "                for abstract in abstract_set:\n",
    "                    for neighbor in node_neighbors:\n",
    "                        if neighbor in abstract:\n",
    "                            # add a weight to the edge of the graph\n",
    "                            G[node][neighbor]['weight'] = G[node][neighbor]['weight'] + 1\n",
    "                            # add a mention in the trends data\n",
    "                            logging.info(\"Adding one to\" + neighbor + \"new mentions total\" + str(trends[neighbor][i] + 1))\n",
    "                            trends[neighbor][i] = trends[neighbor][i] + 1\n",
    "                    if twitter:\n",
    "                        # here we don't need to create counts, they are given by the API\n",
    "                        logging.debug(\"Scraping twitter for \" + node + \" + \" + neighbor)\n",
    "                        twitter_mentions = scrape_twitter(START_DATE, N_WINDOWS, N_MONTHS, \n",
    "                                                          node, neighbor)\n",
    "                        for i, tweet_count in enumerate(twitter_mentions):\n",
    "                            G[node][neighbor]['weight'] = G[node][neighbor]['weight'] + 1\n",
    "                            trends[neighbor][i] = trends[neighbor][i] + 1\n",
    "    save_graph_and_trends(path, G, trends)\n",
    "    tor_process.kill()\n",
    "    return G, trend "
   ]
  },
  {
   "cell_type": "code",
   "execution_count": 31,
   "metadata": {},
   "outputs": [
    {
     "ename": "OSError",
     "evalue": "Process terminated: Failed to bind one of the listener ports.",
     "output_type": "error",
     "traceback": [
      "\u001b[0;31m----------------------------------------------------------------------\u001b[0m",
      "\u001b[0;31mOSError\u001b[0m                              Traceback (most recent call last)",
      "\u001b[0;32m<ipython-input-31-bbb92dc1b652>\u001b[0m in \u001b[0;36m<module>\u001b[0;34m()\u001b[0m\n\u001b[1;32m      1\u001b[0m \u001b[0mYEAR\u001b[0m \u001b[0;34m=\u001b[0m \u001b[0;36m2017\u001b[0m\u001b[0;34m\u001b[0m\u001b[0m\n\u001b[1;32m      2\u001b[0m \u001b[0mget_ipython\u001b[0m\u001b[0;34m(\u001b[0m\u001b[0;34m)\u001b[0m\u001b[0;34m.\u001b[0m\u001b[0msystem\u001b[0m\u001b[0;34m(\u001b[0m\u001b[0;34m'sudo service tor stop'\u001b[0m\u001b[0;34m)\u001b[0m\u001b[0;34m\u001b[0m\u001b[0m\n\u001b[0;32m----> 3\u001b[0;31m \u001b[0mG\u001b[0m\u001b[0;34m,\u001b[0m \u001b[0mtrends\u001b[0m \u001b[0;34m=\u001b[0m \u001b[0mdevelop_graph\u001b[0m\u001b[0;34m(\u001b[0m\u001b[0mYEAR\u001b[0m\u001b[0;34m,\u001b[0m \u001b[0;32mTrue\u001b[0m\u001b[0;34m,\u001b[0m \u001b[0;32mFalse\u001b[0m\u001b[0;34m)\u001b[0m\u001b[0;34m\u001b[0m\u001b[0m\n\u001b[0m",
      "\u001b[0;32m<ipython-input-30-5044de791e46>\u001b[0m in \u001b[0;36mdevelop_graph\u001b[0;34m(year, arxiv, twitter)\u001b[0m\n\u001b[1;32m      7\u001b[0m     tor_process = stem.process.launch_tor_with_config(\n\u001b[1;32m      8\u001b[0m         config = {\n\u001b[0;32m----> 9\u001b[0;31m             \u001b[0;34m'SocksPort'\u001b[0m\u001b[0;34m:\u001b[0m \u001b[0mstr\u001b[0m\u001b[0;34m(\u001b[0m\u001b[0mSOCKS_PORT\u001b[0m\u001b[0;34m)\u001b[0m\u001b[0;34m,\u001b[0m\u001b[0;34m\u001b[0m\u001b[0m\n\u001b[0m\u001b[1;32m     10\u001b[0m         },\n\u001b[1;32m     11\u001b[0m     )\n",
      "\u001b[0;32m~/anaconda3/envs/ecb/lib/python3.6/site-packages/stem/process.py\u001b[0m in \u001b[0;36mlaunch_tor_with_config\u001b[0;34m(config, tor_cmd, completion_percent, init_msg_handler, timeout, take_ownership)\u001b[0m\n\u001b[1;32m    272\u001b[0m \u001b[0;34m\u001b[0m\u001b[0m\n\u001b[1;32m    273\u001b[0m   \u001b[0;32mif\u001b[0m \u001b[0muse_stdin\u001b[0m\u001b[0;34m:\u001b[0m\u001b[0;34m\u001b[0m\u001b[0m\n\u001b[0;32m--> 274\u001b[0;31m     \u001b[0;32mreturn\u001b[0m \u001b[0mlaunch_tor\u001b[0m\u001b[0;34m(\u001b[0m\u001b[0mtor_cmd\u001b[0m\u001b[0;34m,\u001b[0m \u001b[0;34m[\u001b[0m\u001b[0;34m'-f'\u001b[0m\u001b[0;34m,\u001b[0m \u001b[0;34m'-'\u001b[0m\u001b[0;34m]\u001b[0m\u001b[0;34m,\u001b[0m \u001b[0;32mNone\u001b[0m\u001b[0;34m,\u001b[0m \u001b[0mcompletion_percent\u001b[0m\u001b[0;34m,\u001b[0m \u001b[0minit_msg_handler\u001b[0m\u001b[0;34m,\u001b[0m \u001b[0mtimeout\u001b[0m\u001b[0;34m,\u001b[0m \u001b[0mtake_ownership\u001b[0m\u001b[0;34m,\u001b[0m \u001b[0mstdin\u001b[0m \u001b[0;34m=\u001b[0m \u001b[0mconfig_str\u001b[0m\u001b[0;34m)\u001b[0m\u001b[0;34m\u001b[0m\u001b[0m\n\u001b[0m\u001b[1;32m    275\u001b[0m   \u001b[0;32melse\u001b[0m\u001b[0;34m:\u001b[0m\u001b[0;34m\u001b[0m\u001b[0m\n\u001b[1;32m    276\u001b[0m     \u001b[0mtorrc_descriptor\u001b[0m\u001b[0;34m,\u001b[0m \u001b[0mtorrc_path\u001b[0m \u001b[0;34m=\u001b[0m \u001b[0mtempfile\u001b[0m\u001b[0;34m.\u001b[0m\u001b[0mmkstemp\u001b[0m\u001b[0;34m(\u001b[0m\u001b[0mprefix\u001b[0m \u001b[0;34m=\u001b[0m \u001b[0;34m'torrc-'\u001b[0m\u001b[0;34m,\u001b[0m \u001b[0mtext\u001b[0m \u001b[0;34m=\u001b[0m \u001b[0;32mTrue\u001b[0m\u001b[0;34m)\u001b[0m\u001b[0;34m\u001b[0m\u001b[0m\n",
      "\u001b[0;32m~/anaconda3/envs/ecb/lib/python3.6/site-packages/stem/process.py\u001b[0m in \u001b[0;36mlaunch_tor\u001b[0;34m(tor_cmd, args, torrc_path, completion_percent, init_msg_handler, timeout, take_ownership, stdin)\u001b[0m\n\u001b[1;32m    151\u001b[0m \u001b[0;34m\u001b[0m\u001b[0m\n\u001b[1;32m    152\u001b[0m       \u001b[0;32mif\u001b[0m \u001b[0;32mnot\u001b[0m \u001b[0minit_line\u001b[0m\u001b[0;34m:\u001b[0m\u001b[0;34m\u001b[0m\u001b[0m\n\u001b[0;32m--> 153\u001b[0;31m         \u001b[0;32mraise\u001b[0m \u001b[0mOSError\u001b[0m\u001b[0;34m(\u001b[0m\u001b[0;34m'Process terminated: %s'\u001b[0m \u001b[0;34m%\u001b[0m \u001b[0mlast_problem\u001b[0m\u001b[0;34m)\u001b[0m\u001b[0;34m\u001b[0m\u001b[0m\n\u001b[0m\u001b[1;32m    154\u001b[0m \u001b[0;34m\u001b[0m\u001b[0m\n\u001b[1;32m    155\u001b[0m       \u001b[0;31m# provide the caller with the initialization message if they want it\u001b[0m\u001b[0;34m\u001b[0m\u001b[0;34m\u001b[0m\u001b[0m\n",
      "\u001b[0;31mOSError\u001b[0m: Process terminated: Failed to bind one of the listener ports."
     ]
    }
   ],
   "source": [
    "YEAR = 2017\n",
    "!sudo service tor stop\n",
    "G, trends = develop_graph(YEAR, True, False)"
   ]
  },
  {
   "cell_type": "code",
   "execution_count": null,
   "metadata": {},
   "outputs": [],
   "source": [
    "\n",
    "path = os.path.join(IMEDGE_PATH, str(2017))\n",
    "save_graph_and_trends(path, G, trends)"
   ]
  },
  {
   "cell_type": "code",
   "execution_count": null,
   "metadata": {},
   "outputs": [],
   "source": []
  }
 ],
 "metadata": {
  "kernelspec": {
   "display_name": "Python 3",
   "language": "python",
   "name": "python3"
  },
  "language_info": {
   "codemirror_mode": {
    "name": "ipython",
    "version": 3
   },
   "file_extension": ".py",
   "mimetype": "text/x-python",
   "name": "python",
   "nbconvert_exporter": "python",
   "pygments_lexer": "ipython3",
   "version": "3.6.5"
  }
 },
 "nbformat": 4,
 "nbformat_minor": 2
}
